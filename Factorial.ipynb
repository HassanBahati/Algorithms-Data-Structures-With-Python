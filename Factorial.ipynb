{
 "cells": [
  {
   "cell_type": "markdown",
   "id": "df2a5a2d",
   "metadata": {},
   "source": [
    "1. Take an integer, n as an argument \n",
    "2. Declare a variable, product and intialize it to 1\n",
    "3. A loop executes from 1 to n and during each iteration, the number being iterated is increased by 1, the value of product is multiplied by number being iterated by the loop and the result is again stored "
   ]
  },
  {
   "cell_type": "code",
   "execution_count": 4,
   "id": "213984ee",
   "metadata": {},
   "outputs": [
    {
     "data": {
      "text/plain": [
       "120"
      ]
     },
     "execution_count": 4,
     "metadata": {},
     "output_type": "execute_result"
    }
   ],
   "source": [
    "def Factorial(n):\n",
    "    product =1 \n",
    "    for i range(n):\n",
    "        product = product * (i+1)\n",
    "    return product\n"
   ]
  },
  {
   "cell_type": "code",
   "execution_count": null,
   "id": "dc0786f0",
   "metadata": {},
   "outputs": [],
   "source": [
    "Factorial(5)"
   ]
  }
 ],
 "metadata": {
  "kernelspec": {
   "display_name": "Python 3",
   "language": "python",
   "name": "python3"
  },
  "language_info": {
   "codemirror_mode": {
    "name": "ipython",
    "version": 3
   },
   "file_extension": ".py",
   "mimetype": "text/x-python",
   "name": "python",
   "nbconvert_exporter": "python",
   "pygments_lexer": "ipython3",
   "version": "3.8.8"
  }
 },
 "nbformat": 4,
 "nbformat_minor": 5
}
