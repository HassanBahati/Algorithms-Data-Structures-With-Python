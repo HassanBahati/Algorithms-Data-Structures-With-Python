{
 "cells": [
  {
   "cell_type": "markdown",
   "id": "41679b2c",
   "metadata": {},
   "source": [
    "1. Take an integer, n as an argument \n",
    "2. Declare a variable, product and intialize it to 1\n",
    "3. A loop executes from 1 to n and during each iteration,the value of product is multiplied by number being iterated by the loop and the result is again stored in the variable product.\n",
    "4. After the loop executes, product will contain the factorial."
   ]
  },
  {
   "cell_type": "code",
   "execution_count": 6,
   "id": "6831772a",
   "metadata": {},
   "outputs": [],
   "source": [
    "def Factorial(n):\n",
    "    product = 1 \n",
    "    for i in range(n):\n",
    "        product = product * (i+1)\n",
    "    return product\n"
   ]
  },
  {
   "cell_type": "code",
   "execution_count": 7,
   "id": "899d2e6c",
   "metadata": {},
   "outputs": [
    {
     "data": {
      "text/plain": [
       "120"
      ]
     },
     "execution_count": 7,
     "metadata": {},
     "output_type": "execute_result"
    }
   ],
   "source": [
    "Factorial(5)"
   ]
  },
  {
   "cell_type": "code",
   "execution_count": 8,
   "id": "1ec72b4f",
   "metadata": {},
   "outputs": [
    {
     "name": "stdout",
     "output_type": "stream",
     "text": [
      "3.06 µs ± 306 ns per loop (mean ± std. dev. of 7 runs, 100000 loops each)\n"
     ]
    }
   ],
   "source": [
    "%timeit Factorial(5)"
   ]
  },
  {
   "cell_type": "code",
   "execution_count": null,
   "id": "659c4ccf",
   "metadata": {},
   "outputs": [],
   "source": []
  }
 ],
 "metadata": {
  "kernelspec": {
   "display_name": "Python 3",
   "language": "python",
   "name": "python3"
  },
  "language_info": {
   "codemirror_mode": {
    "name": "ipython",
    "version": 3
   },
   "file_extension": ".py",
   "mimetype": "text/x-python",
   "name": "python",
   "nbconvert_exporter": "python",
   "pygments_lexer": "ipython3",
   "version": "3.8.8"
  }
 },
 "nbformat": 4,
 "nbformat_minor": 5
}
