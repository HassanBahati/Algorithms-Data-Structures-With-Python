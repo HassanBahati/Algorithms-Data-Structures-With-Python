{
 "cells": [
  {
   "cell_type": "markdown",
   "id": "3ffd3bfb",
   "metadata": {},
   "source": [
    "Check all elements in the list "
   ]
  },
  {
   "cell_type": "code",
   "execution_count": 6,
   "id": "77ccba1a",
   "metadata": {},
   "outputs": [
    {
     "name": "stdout",
     "output_type": "stream",
     "text": [
      "Found\n"
     ]
    },
    {
     "ename": "SystemExit",
     "evalue": "0",
     "output_type": "error",
     "traceback": [
      "An exception has occurred, use %tb to see the full traceback.\n",
      "\u001b[0;31mSystemExit\u001b[0m\u001b[0;31m:\u001b[0m 0\n"
     ]
    }
   ],
   "source": [
    "import sys\n",
    "\n",
    "numbers = [4, 6, 8, 2, 7, 5, 0]\n",
    "\n",
    "if 0 in numbers:\n",
    "    print(\"Found\")\n",
    "    sys.exit(0)\n",
    "\n",
    "print(\"Not found\")\n",
    "sys.exit(5)"
   ]
  },
  {
   "cell_type": "code",
   "execution_count": null,
   "id": "d9c4d51a",
   "metadata": {},
   "outputs": [],
   "source": []
  }
 ],
 "metadata": {
  "kernelspec": {
   "display_name": "Python 3",
   "language": "python",
   "name": "python3"
  },
  "language_info": {
   "codemirror_mode": {
    "name": "ipython",
    "version": 3
   },
   "file_extension": ".py",
   "mimetype": "text/x-python",
   "name": "python",
   "nbconvert_exporter": "python",
   "pygments_lexer": "ipython3",
   "version": "3.8.8"
  }
 },
 "nbformat": 4,
 "nbformat_minor": 5
}
