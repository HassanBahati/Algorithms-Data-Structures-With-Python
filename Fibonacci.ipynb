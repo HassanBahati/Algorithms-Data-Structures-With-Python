{
 "cells": [
  {
   "cell_type": "markdown",
   "id": "c68b21d9",
   "metadata": {},
   "source": [
    "Sudo code\n",
    "1. nb: res"
   ]
  },
  {
   "cell_type": "code",
   "execution_count": 6,
   "id": "1f09215c",
   "metadata": {},
   "outputs": [],
   "source": [
    "def fibonacci(n):\n",
    "    #computes and returns the fibonacci of n, a positive integer\n",
    "    if n == 1: #first base case\n",
    "        return 1\n",
    "    elif n == 2: #second base case\n",
    "        return 1\n",
    "    else: #recursive step\n",
    "        return fibonacci(n-1) + fibonacci(n-2)\n",
    "        \n",
    "        "
   ]
  },
  {
   "cell_type": "code",
   "execution_count": 7,
   "id": "c6ba087f",
   "metadata": {},
   "outputs": [
    {
     "data": {
      "text/plain": [
       "2"
      ]
     },
     "execution_count": 7,
     "metadata": {},
     "output_type": "execute_result"
    }
   ],
   "source": [
    "fibonacci(3)"
   ]
  },
  {
   "cell_type": "code",
   "execution_count": null,
   "id": "19e56bcb",
   "metadata": {},
   "outputs": [],
   "source": []
  }
 ],
 "metadata": {
  "kernelspec": {
   "display_name": "Python 3",
   "language": "python",
   "name": "python3"
  },
  "language_info": {
   "codemirror_mode": {
    "name": "ipython",
    "version": 3
   },
   "file_extension": ".py",
   "mimetype": "text/x-python",
   "name": "python",
   "nbconvert_exporter": "python",
   "pygments_lexer": "ipython3",
   "version": "3.8.8"
  }
 },
 "nbformat": 4,
 "nbformat_minor": 5
}
