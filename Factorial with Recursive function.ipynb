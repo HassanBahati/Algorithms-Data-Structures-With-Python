{
 "cells": [
  {
   "cell_type": "markdown",
   "id": "b56e3fa5",
   "metadata": {},
   "source": [
    "1. Factorial(3) - new workspace created to compute factorial 3.\n",
    "2. Input argument value 3 compared to 1. Since they are not equal, else is executed.\n",
    "3. 3*Factorial(2) to be computed. New workspace created for Factorial(2).\n",
    "4. Input argument value 2 compared to 1. Since they are not equal, else is executed.\n",
    "5. 2*Factorial(1) to be computed. New workspace created for Factorial(1).\n",
    "6. Input argument value 1 compared to 1. Since they are equal. if statement is executed.\n",
    "7. Return variable assigned value 1. Factorial 1 terminated with output 1.\n",
    "8. 2*Factorial(1) resolved to 2*1=2. Output "
   ]
  },
  {
   "cell_type": "code",
   "execution_count": 4,
   "id": "16d11870",
   "metadata": {},
   "outputs": [
    {
     "data": {
      "text/plain": [
       "120"
      ]
     },
     "execution_count": 4,
     "metadata": {},
     "output_type": "execute_result"
    }
   ],
   "source": [
    "def Factorial(n):\n",
    "    if n == 0:\n",
    "        return 1\n",
    "    else:\n",
    "        return n * Factorial(n-1)"
   ]
  },
  {
   "cell_type": "code",
   "execution_count": null,
   "id": "199df323",
   "metadata": {},
   "outputs": [],
   "source": [
    "Factorial(5)"
   ]
  }
 ],
 "metadata": {
  "kernelspec": {
   "display_name": "Python 3",
   "language": "python",
   "name": "python3"
  },
  "language_info": {
   "codemirror_mode": {
    "name": "ipython",
    "version": 3
   },
   "file_extension": ".py",
   "mimetype": "text/x-python",
   "name": "python",
   "nbconvert_exporter": "python",
   "pygments_lexer": "ipython3",
   "version": "3.8.8"
  }
 },
 "nbformat": 4,
 "nbformat_minor": 5
}
